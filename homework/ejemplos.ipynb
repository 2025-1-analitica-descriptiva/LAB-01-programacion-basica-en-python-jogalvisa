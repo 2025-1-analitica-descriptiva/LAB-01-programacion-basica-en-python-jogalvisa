{
 "cells": [
  {
   "cell_type": "code",
   "execution_count": null,
   "id": "873847b9",
   "metadata": {},
   "outputs": [],
   "source": [
    "\n",
    "\n",
    "# D:\\Datos\\Documents\\CLASE ANALITICA DESCRIPTIVA\\LAB-01-programacion-basica-en-python-jogalvisa\\files\\input"
   ]
  },
  {
   "cell_type": "code",
   "execution_count": null,
   "id": "7932a693",
   "metadata": {},
   "outputs": [],
   "source": []
  },
  {
   "cell_type": "code",
   "execution_count": null,
   "id": "0d213175",
   "metadata": {},
   "outputs": [],
   "source": []
  },
  {
   "cell_type": "code",
   "execution_count": null,
   "id": "e5fb2cfd",
   "metadata": {},
   "outputs": [],
   "source": []
  },
  {
   "cell_type": "code",
   "execution_count": 23,
   "id": "18a985e8",
   "metadata": {},
   "outputs": [
    {
     "data": {
      "text/plain": [
       "[('A', 8), ('B', 7), ('C', 5), ('D', 6), ('E', 14)]"
      ]
     },
     "execution_count": 23,
     "metadata": {},
     "output_type": "execute_result"
    }
   ],
   "source": [
    "y = [z[0] for z in x]\n",
    "\n",
    "from collections import Counter\n",
    "sorted(list(Counter(y).items()))"
   ]
  },
  {
   "cell_type": "code",
   "execution_count": null,
   "id": "e4b7cb05",
   "metadata": {},
   "outputs": [],
   "source": [
    "x =  open('D:\\\\Datos\\\\Documents\\\\CLASE ANALITICA DESCRIPTIVA\\\\LAB-01-programacion-basica-en-python-jogalvisa\\\\files\\\\input\\\\data.csv', 'r').readlines()\n",
    "x = [z.replace('\\n','') for z in x]\n",
    "x = [z.split(\"\\t\") for z in x]\n",
    "\n"
   ]
  },
  {
   "cell_type": "code",
   "execution_count": 45,
   "id": "600a8daa",
   "metadata": {},
   "outputs": [
    {
     "name": "stdout",
     "output_type": "stream",
     "text": [
      "[('E', 1), ('A', 2), ('B', 5), ('A', 3), ('C', 6), ('A', 7), ('A', 9), ('B', 1), ('E', 2), ('B', 3), ('C', 7), ('C', 5), ('D', 3), ('E', 8), ('B', 9), ('D', 8), ('E', 3), ('D', 5), ('E', 8), ('E', 9), ('E', 7), ('E', 3), ('D', 5), ('A', 9), ('E', 4), ('E', 6), ('A', 8), ('E', 5), ('A', 6), ('C', 0), ('A', 9), ('D', 3), ('E', 5), ('B', 4), ('B', 6), ('D', 7), ('B', 8), ('C', 9), ('E', 1), ('E', 5)]\n"
     ]
    }
   ],
   "source": [
    "resultado = [(fila[0], int(fila[1])) for fila in x]\n",
    "\n",
    "print(resultado)\n"
   ]
  },
  {
   "cell_type": "code",
   "execution_count": null,
   "id": "d9bd53fe",
   "metadata": {},
   "outputs": [],
   "source": [
    " conteo = {}\n",
    "\n",
    "for letra, valor in resultado:\n",
    "    if letra in conteo:\n",
    "        conteo[letra] += valor  # Sumar valores si la letra ya existe\n",
    "    else:\n",
    "        conteo[letra] = valor # Inicializar la suma\n",
    "\n",
    "# Convertir el diccionario a una lista de tuplas ordenadas\n",
    "resultado = sorted(conteo.items())\n"
   ]
  }
 ],
 "metadata": {
  "kernelspec": {
   "display_name": ".venv",
   "language": "python",
   "name": "python3"
  },
  "language_info": {
   "codemirror_mode": {
    "name": "ipython",
    "version": 3
   },
   "file_extension": ".py",
   "mimetype": "text/x-python",
   "name": "python",
   "nbconvert_exporter": "python",
   "pygments_lexer": "ipython3",
   "version": "3.12.4"
  }
 },
 "nbformat": 4,
 "nbformat_minor": 5
}
